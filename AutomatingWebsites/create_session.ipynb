{
 "cells": [
  {
   "cell_type": "code",
   "execution_count": null,
   "metadata": {},
   "outputs": [],
   "source": [
    "# Creating profile\n",
    "import os\n",
    "import dotenv\n",
    "dotenv.load_dotenv()\n",
    "\n",
    "session_id = \"YOUR_SESSION_ID\"\n",
    "\n",
    "import requests\n",
    "\n",
    "url = \"https://api.anchorbrowser.io/api/profiles\"\n",
    "\n",
    "payload = {\n",
    "    \"name\": \"YOUR_SESSION_NAME\",\n",
    "    \"description\": \"This is my profile description.\",\n",
    "    \"source\": \"session\",\n",
    "    \"session_id\": session_id\n",
    "}\n",
    "headers = {\n",
    "    \"anchor-api-key\": os.getenv(\"ANCHOR_API_KEY\"),\n",
    "    \"Content-Type\": \"application/json\"\n",
    "}\n",
    "\n",
    "response = requests.request(\"POST\", url, json=payload, headers=headers)\n",
    "\n",
    "print(response.text)\n",
    "\n"
   ]
  },
  {
   "cell_type": "code",
   "execution_count": null,
   "metadata": {},
   "outputs": [],
   "source": [
    "# How to create new session with profile\n",
    "import requests\n",
    "\n",
    "url = \"https://api.anchorbrowser.io/api/sessions\"\n",
    "\n",
    "payload = {\"profile\": {\"name\": \"YOUR_SESSION_NAME\"}}\n",
    "headers = {\n",
    "    \"anchor-api-key\": os.getenv(\"ANCHOR_API_KEY\"),\n",
    "    \"Content-Type\": \"application/json\"\n",
    "}\n",
    "\n",
    "response = requests.request(\"POST\", url, json=payload, headers=headers)\n",
    "\n",
    "print(response.text)"
   ]
  }
 ],
 "metadata": {
  "kernelspec": {
   "display_name": ".venv",
   "language": "python",
   "name": "python3"
  },
  "language_info": {
   "codemirror_mode": {
    "name": "ipython",
    "version": 3
   },
   "file_extension": ".py",
   "mimetype": "text/x-python",
   "name": "python",
   "nbconvert_exporter": "python",
   "pygments_lexer": "ipython3",
   "version": "3.11.8"
  }
 },
 "nbformat": 4,
 "nbformat_minor": 2
}
